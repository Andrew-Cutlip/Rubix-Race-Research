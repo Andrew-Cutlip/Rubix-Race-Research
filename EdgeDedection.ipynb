{
 "cells": [
  {
   "cell_type": "code",
   "execution_count": 1,
   "metadata": {},
   "outputs": [],
   "source": [
    "#imports\n",
    "import cv2 as cv\n",
    "from matplotlib import pyplot as plt\n",
    "import numpy as np"
   ]
  },
  {
   "cell_type": "code",
   "execution_count": null,
   "metadata": {},
   "outputs": [],
   "source": [
    "# configuration parameters\n",
    "config = {\n",
    "    \"kernel_size\": 5,\n",
    "    \"canny_low\": 50,\n",
    "    \"canny_high\": 90,\n",
    "    \"rho\": 1,\n",
    "    \"theta\": np.pi / 180,\n",
    "    \"vote_threshold\": 20,\n",
    "    \"min_length\": 50,\n",
    "    \"max_gap\": 30\n",
    "}\n",
    "\n"
   ]
  },
  {
   "cell_type": "code",
   "execution_count": null,
   "metadata": {},
   "outputs": [],
   "source": [
    "# function to detect edges\n",
    "def detect_edges(original, blur, filename):\n",
    "    low = config[\"canny_low\"]\n",
    "    high = config[\"canny_high\"]\n",
    "    edges = cv.Canny(blur, low, high)\n",
    "    plt.subplot(1, 2, 1)\n",
    "    rgb = cv.cvtColor(original, cv.COLOR_BGR2RGB)\n",
    "    plt.imshow(rgb)\n",
    "    plt.title(\"Original Image\")\n",
    "    plt.xticks([])\n",
    "    plt.yticks([])\n",
    "    plt.subplot(1, 2, 2)\n",
    "    plt.imshow(edges, cmap=\"gray\")\n",
    "    plt.title(\"Edges Image\")\n",
    "    plt.xticks([])\n",
    "    plt.yticks([])\n",
    "    name = filename.split(\".\")\n",
    "    plt.savefig(f\"./{name[1]}-Edges.{name[2]}\")\n",
    "    plt.show()\n",
    "\n",
    "    return original, edges\n",
    "\n"
   ]
  },
  {
   "cell_type": "code",
   "execution_count": null,
   "metadata": {},
   "outputs": [],
   "source": [
    "# function to detect lines\n",
    "def detect_lines(img, edges, filename):\n",
    "    rho = config[\"rho\"]\n",
    "    theta = config[\"theta\"]\n",
    "    votes = config[\"vote_threshold\"]\n",
    "    min_length = config[\"min_length\"]\n",
    "    max_gap = config[\"max_gap\"]\n",
    "    lines = cv.HoughLinesP(edges, rho, theta, votes, np.array([]), min_length, max_gap)\n",
    "\n",
    "    # need to check if there are even any lines\n",
    "    if lines is not None:\n",
    "        # keep track of lines already added\n",
    "        added = []\n",
    "        for line in lines:\n",
    "            l = line[0]\n",
    "            # added.append((x1,y1,x2,y2))\n",
    "\n",
    "            cv.line(img, (l[0], l[1]), (l[2], l[3]), (255, 0, 0), 2)\n",
    "\n",
    "    plt.imshow(img)\n",
    "    plt.show()\n",
    "    name = filename.split('.')\n",
    "    cv.imwrite(f\"./{name[1]}-Lines.{name[2]}\", img)\n",
    "\n"
   ]
  },
  {
   "cell_type": "code",
   "execution_count": null,
   "metadata": {},
   "outputs": [],
   "source": [
    "# function to blur image with gaussian blur\n",
    "def blur_image(filename: str):\n",
    "    \n",
    "    img = cv.imread(filename)\n",
    "    rgb = cv.cvtColor(img, cv.COLOR_BGR2RGB)\n",
    "    plt.imshow(rgb)\n",
    "    plt.show()\n",
    "    gray = cv.cvtColor(img, cv.COLOR_RGB2GRAY)\n",
    "\n",
    "    kernel_size = config[\"kernel_size\"]\n",
    "    blur = cv.GaussianBlur(gray, (kernel_size, kernel_size), 0)\n",
    "    plt.imshow(blur, cmap=\"gray\")\n",
    "\n",
    "    name = filename.split(\".\")\n",
    "    plt.savefig(f\"./{name[1]}-Blurred.{name[2]}\")\n",
    "\n",
    "    plt.show()\n",
    "\n",
    "    return blur, img"
   ]
  },
  {
   "cell_type": "code",
   "execution_count": null,
   "metadata": {},
   "outputs": [],
   "source": [
    "# function to go from starting file to file with lines drawn on it\n",
    "def file_to_lines(filename: str):\n",
    "    blur, original = blur_image(filename)\n",
    "    img, edges = detect_edges(original, blur, filename)\n",
    "    detect_lines(original, edges, filename)"
   ]
  },
  {
   "cell_type": "code",
   "execution_count": null,
   "metadata": {},
   "outputs": [],
   "source": [
    "# converts some files from image folder into images with lines detected\n",
    "    file1 = \"./images/Photo-1.jpeg\"\n",
    "    file_to_lines(file1)\n",
    "\n",
    "    file2 = \"./images/Photo-2.jpeg\"\n",
    "    file_to_lines(file2)\n",
    "\n",
    "    file3 = \"./images/Photo-3.jpeg\"\n",
    "    file_to_lines(file3)\n",
    "\n",
    "    file4 = \"./images/Photo-4.jpeg\"\n",
    "    file_to_lines(file4)\n",
    "\n",
    "    file5 = \"./images/Photo-5.jpeg\"\n",
    "    file_to_lines(file5)"
   ]
  }
 ],
 "metadata": {
  "interpreter": {
   "hash": "a678ec3fa75d3befb772377f644cb31272dddec6604f464dbdb86dfb31c9ae8c"
  },
  "kernelspec": {
   "display_name": "Python 3.8.3 ('base')",
   "language": "python",
   "name": "python3"
  },
  "language_info": {
   "codemirror_mode": {
    "name": "ipython",
    "version": 3
   },
   "file_extension": ".py",
   "mimetype": "text/x-python",
   "name": "python",
   "nbconvert_exporter": "python",
   "pygments_lexer": "ipython3",
   "version": "3.8.3"
  },
  "orig_nbformat": 4
 },
 "nbformat": 4,
 "nbformat_minor": 2
}
