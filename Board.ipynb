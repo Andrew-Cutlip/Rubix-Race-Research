{
 "cells": [
  {
   "cell_type": "code",
   "execution_count": 59,
   "metadata": {},
   "outputs": [],
   "source": [
    "#imports\n",
    "import numpy as np\n",
    "from typing import List, Tuple\n",
    "import random\n",
    "import matplotlib.pyplot as plt\n",
    "from matplotlib.colors import ListedColormap"
   ]
  },
  {
   "cell_type": "markdown",
   "metadata": {},
   "source": [
    "## Get Random Board State"
   ]
  },
  {
   "cell_type": "code",
   "execution_count": 1,
   "metadata": {},
   "outputs": [],
   "source": [
    "# dictionary of config parameters\n",
    "board_config = {\n",
    "    \"board_len\" : 5,\n",
    "    \"board_width\" : 5,\n",
    "    \"green\" : 4,\n",
    "    \"white\" : 4,\n",
    "    \"red\" : 4,\n",
    "    \"yellow\" : 4,\n",
    "    \"orange\" : 4,\n",
    "    \"blue\" : 4,\n",
    "    \"blank\" : 1,\n",
    "}"
   ]
  },
  {
   "cell_type": "code",
   "execution_count": 82,
   "metadata": {},
   "outputs": [],
   "source": [
    "colors_to_num1 = {\n",
    "    \"g\" : 1,\n",
    "    \"w\" : 2,\n",
    "    \"r\" : 3,\n",
    "    \"y\" : 4,\n",
    "    \"o\" : 5,\n",
    "    \"b\" : 6,\n",
    "    \"_\" : 0,\n",
    "}"
   ]
  },
  {
   "cell_type": "code",
   "execution_count": 78,
   "metadata": {},
   "outputs": [],
   "source": [
    "colors_to_num2 = {\n",
    "    \"g\" : 0,\n",
    "    \"w\" : 1,\n",
    "    \"r\" : 2,\n",
    "    \"y\" : 3,\n",
    "    \"o\" : 4,\n",
    "    \"b\" : 5\n",
    "}"
   ]
  },
  {
   "cell_type": "code",
   "execution_count": 100,
   "metadata": {},
   "outputs": [],
   "source": [
    "cmap1 = ListedColormap(['k', 'g', 'w', 'r', 'yellow', 'orange', 'b'])\n",
    "cmap2 = ListedColormap(['g', 'w', 'r', 'y', 'orange', 'b'])"
   ]
  },
  {
   "cell_type": "code",
   "execution_count": 80,
   "metadata": {},
   "outputs": [],
   "source": [
    "def board_to_num(board: List[List[str]], isBoard: bool):\n",
    "    new_board = []\n",
    "    for row in board:\n",
    "        new_row = []\n",
    "        for color in row:\n",
    "            if isBoard:\n",
    "                num = colors_to_num1[color]\n",
    "            else:\n",
    "                num = colors_to_num2[color]\n",
    "            new_row.append(num)\n",
    "        new_board.append(new_row)\n",
    "    return new_board"
   ]
  },
  {
   "cell_type": "code",
   "execution_count": 42,
   "metadata": {},
   "outputs": [],
   "source": [
    "# option to get colors for board or for goal\n",
    "def get_colors(board: bool) -> List[str]:\n",
    "    reds = [\"r\"] * board_config[\"red\"]\n",
    "    blues = [\"b\"] * board_config[\"blue\"]\n",
    "    yellows = [\"y\"] * board_config[\"yellow\"]\n",
    "    oranges = [\"o\"] * board_config[\"orange\"]\n",
    "    whites = [\"w\"] * board_config[\"white\"]\n",
    "    greens = [\"g\"] * board_config[\"green\"]\n",
    "    blank = [\"_\"]\n",
    "    colors = reds + blues + yellows + oranges + whites + greens\n",
    "    if board:\n",
    "        colors += blank\n",
    "    return colors\n"
   ]
  },
  {
   "cell_type": "code",
   "execution_count": 109,
   "metadata": {},
   "outputs": [
    {
     "data": {
      "text/plain": [
       "<matplotlib.image.AxesImage at 0x7fa9ddc11dc0>"
      ]
     },
     "execution_count": 109,
     "metadata": {},
     "output_type": "execute_result"
    },
    {
     "data": {
      "image/png": "[encoded data removed]",
      "text/plain": [
       "<Figure size 432x288 with 1 Axes>"
      ]
     },
     "metadata": {
      "needs_background": "light"
     },
     "output_type": "display_data"
    }
   ],
   "source": [
    "def random_board() -> List[List[str]]:\n",
    "    board = []\n",
    "    colors = get_colors(True)\n",
    "    random.shuffle(colors)\n",
    "    #print(len(colors))\n",
    "    for i in range(0, board_config[\"board_len\"]):\n",
    "        row = []\n",
    "        #print(f\"i: {i}\")\n",
    "        for j in range(0, board_config[\"board_width\"]):\n",
    "            #print(f\"j: {j}\")\n",
    "            color = colors.pop()\n",
    "            row.append(color)\n",
    "        board.append(row)\n",
    "    return board\n",
    "\n",
    "board = random_board()\n",
    "board = board_to_num(board, True)\n",
    "plt.imshow(board, cmap=cmap)"
   ]
  },
  {
   "cell_type": "markdown",
   "metadata": {},
   "source": [
    "## Random Goal State"
   ]
  },
  {
   "cell_type": "code",
   "execution_count": 44,
   "metadata": {},
   "outputs": [],
   "source": [
    "# goal pattern has no blanks and is smaller\n",
    "goal_config = {\n",
    "    \"len\": 3,\n",
    "    \"width\": 3,\n",
    "    \"green\" : 4,\n",
    "    \"white\" : 4,\n",
    "    \"red\" : 4,\n",
    "    \"yellow\" : 4,\n",
    "    \"orange\" : 4,\n",
    "    \"blue\" : 4\n",
    "}"
   ]
  },
  {
   "cell_type": "code",
   "execution_count": 94,
   "metadata": {},
   "outputs": [
    {
     "data": {
      "text/plain": [
       "<matplotlib.image.AxesImage at 0x7fa9ddfb1af0>"
      ]
     },
     "execution_count": 94,
     "metadata": {},
     "output_type": "execute_result"
    },
    {
     "data": {
      "image/png": "[encoded data removed]",
      "text/plain": [
       "<Figure size 432x288 with 1 Axes>"
      ]
     },
     "metadata": {
      "needs_background": "light"
     },
     "output_type": "display_data"
    }
   ],
   "source": [
    "def random_goal() -> List[List[str]]:\n",
    "    colors = get_colors(False)\n",
    "    random.shuffle(colors)\n",
    "    goal = []\n",
    "    for i in range(0, goal_config[\"len\"]):\n",
    "        row = []\n",
    "        for j in range(0, goal_config[\"width\"]):\n",
    "            color = colors.pop()\n",
    "            row.append(color)\n",
    "        goal.append(row)\n",
    "    return goal\n",
    "\n",
    "goal = random_goal()\n",
    "goal = board_to_num(goal, False)\n",
    "plt.imshow(goal, cmap=cmap2)"
   ]
  },
  {
   "cell_type": "markdown",
   "metadata": {},
   "source": [
    "# Board Class"
   ]
  },
  {
   "cell_type": "code",
   "execution_count": null,
   "metadata": {},
   "outputs": [],
   "source": [
    "# actions are from the perspective of the blank space\n",
    "# ie up moves the blank space up one\n",
    "actions = [\n",
    "    \"up\",\n",
    "    \"down\",\n",
    "    \"left\",\n",
    "    \"right\"\n",
    "]"
   ]
  },
  {
   "cell_type": "code",
   "execution_count": 37,
   "metadata": {},
   "outputs": [],
   "source": [
    "class Board:\n",
    "\n",
    "    def __init__(self, board: List[List[str]], goal: List[List[str]]):\n",
    "        self.board = board\n",
    "        self.len = len(board)\n",
    "        self.width = len(board[0])\n",
    "        self.goal = goal\n",
    "        self.goal_len = len(goal)\n",
    "        self.goal_width = len(goal[0])\n",
    "\n",
    "    def get_blank_loc(state: List[List[str]]) -> Tuple[int, int]:\n",
    "        for row, i in enumerate(state):\n",
    "            for tile, j in enumerate(row):\n",
    "                if tile == \"_\":\n",
    "                    return (i, j)\n",
    "\n",
    "    def canMoveUp(self, y: int) -> bool:\n",
    "        return (y != 0)\n",
    "\n",
    "    def canMoveDown(self, y: int) -> bool:\n",
    "        return (y != self.len - 1)\n",
    "\n",
    "    def canMoveLeft(self, x: int) -> bool:\n",
    "        return (x != 0)\n",
    "\n",
    "    def canMoveRight(self, x: int) -> bool:\n",
    "        return (x != self.width - 1)\n",
    "\n",
    "    def get_available_moves(self, state: List[List[str]]) -> List[str]:\n",
    "        moves = []\n",
    "        y, x = self.get_blank_loc(state)\n",
    "        if self.canMoveUp(y):\n",
    "            moves.append(actions[0])\n",
    "        if self.canMoveDown(y):\n",
    "            moves.append(actions[1])\n",
    "        if self.canMoveLeft(x):\n",
    "            moves.append(actions[2])\n",
    "        if self.canMoveRight(x):\n",
    "            moves.append(actions[3])\n",
    "        return moves\n",
    "\n",
    "    def check_at_goal(self, state: List[List[str]]):\n",
    "        goal = self.goal\n",
    "        center = []\n",
    "        for i in range(1, self.len - 1):\n",
    "                row = []\n",
    "                for j in range(1, self.width - 1):\n",
    "                    row.append(state[i][j])\n",
    "                center.append(row)\n",
    "        for i in range(0, self.goal_len):\n",
    "            for j in range(0, self.goal_width):\n",
    "                if goal[i][j] != center[i][j]:\n",
    "                    return False\n",
    "        return True\n",
    "\n",
    "\n",
    "    # returns board state from taking a certain action\n",
    "    def next_state(self, state: List[List[str]], action: str):\n",
    "        y, x = self.get_blank_loc()\n",
    "        next_x = x,\n",
    "        next_y = y\n",
    "        if action == \"up\":\n",
    "            next_y -= 1\n",
    "        elif action == \"down\":\n",
    "            next_y += 1\n",
    "        elif action == \"left\":\n",
    "            next_x -= 1\n",
    "        else:\n",
    "            next_x += 1\n",
    "        # get value of other tile\n",
    "        swap_val = state[next_y][next_x]\n",
    "        # set blank\n",
    "        state[next_y][next_x] = \"_\"\n",
    "        # set old value\n",
    "        state[y][x] = swap_val\n",
    "\n",
    "        return state\n",
    "\n",
    "    # applies action to current board state\n",
    "    def take_action(self, action: str):\n",
    "        board = self.board\n",
    "        new_board = self.next_state(board, action)\n",
    "        self.board = new_board\n"
   ]
  }
 ],
 "metadata": {
  "interpreter": {
   "hash": "8a94588eda9d64d9e9a351ab8144e55b1fabf5113b54e67dd26a8c27df0381b3"
  },
  "kernelspec": {
   "display_name": "Python 3.10.2 64-bit",
   "language": "python",
   "name": "python3"
  },
  "language_info": {
   "codemirror_mode": {
    "name": "ipython",
    "version": 3
   },
   "file_extension": ".py",
   "mimetype": "text/x-python",
   "name": "python",
   "nbconvert_exporter": "python",
   "pygments_lexer": "ipython3",
   "version": "3.8.3"
  },
  "orig_nbformat": 4
 },
 "nbformat": 4,
 "nbformat_minor": 2
}
